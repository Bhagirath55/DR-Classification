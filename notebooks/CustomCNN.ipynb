{
 "cells": [
  {
   "cell_type": "markdown",
   "id": "f795b30e-7f04-4640-a91c-8d37826f0e9a",
   "metadata": {},
   "source": [
    "# 3️⃣ Custom CNN\n",
    "    ✅ Trained From Scratch on Our Dataset\n",
    "    ✅ Feature Extraction Power: Limited but customized for our dataset\n",
    "    ✅ How it Works:\n",
    "\n",
    "        Convolution layers → Detect patterns like edges, curves, etc.\n",
    "        Pooling layers → Reduce image size while keeping important features.\n",
    "        Fully connected layer → Extracts final feature vectors."
   ]
  },
  {
   "cell_type": "markdown",
   "id": "5dccef7c-9eef-4f10-b971-6385f5c220a5",
   "metadata": {},
   "source": [
    "# Defining CNN Feature Extractor"
   ]
  },
  {
   "cell_type": "code",
   "execution_count": 1,
   "id": "84fcfefa-bc70-40e1-937c-f3df1fc6891b",
   "metadata": {},
   "outputs": [],
   "source": [
    "import tensorflow as tf\n",
    "import numpy as np\n",
    "import matplotlib.pyplot as plt\n",
    "import seaborn as sns\n",
    "from tensorflow.keras.preprocessing.image import ImageDataGenerator\n",
    "from tensorflow.keras.models import Sequential\n",
    "from tensorflow.keras.layers import Conv2D, MaxPooling2D, Dense, Dropout, BatchNormalization, GlobalAveragePooling2D\n",
    "from tensorflow.keras.optimizers import Adam\n",
    "from tensorflow.keras.callbacks import EarlyStopping, ReduceLROnPlateau\n",
    "from sklearn.metrics import confusion_matrix, classification_report\n",
    "import os\n",
    "import time\n",
    "import cv2"
   ]
  },
  {
   "cell_type": "code",
   "execution_count": 2,
   "id": "41d26743-f5a0-4511-9110-079353486497",
   "metadata": {},
   "outputs": [
    {
     "name": "stdout",
     "output_type": "stream",
     "text": [
      "INFO:tensorflow:Mixed precision compatibility check (mixed_float16): OK\n",
      "Your GPU will likely run quickly with dtype policy mixed_float16 as it has compute capability of at least 7.0. Your GPU: NVIDIA GeForce RTX 2050, compute capability 8.6\n"
     ]
    }
   ],
   "source": [
    "# Enabling mixed precision training\n",
    "from tensorflow.keras.mixed_precision import set_global_policy\n",
    "set_global_policy('mixed_float16')"
   ]
  },
  {
   "cell_type": "code",
   "execution_count": 3,
   "id": "5b4221ad-ea8e-4175-ba1f-434232323770",
   "metadata": {},
   "outputs": [],
   "source": [
    "data_dir = r'C:\\Users\\bhagi\\Desktop\\AI_ML_Projects\\Early_Detection_of_Diabetic_Retinopathy\\preprocessed'\n",
    "img_size = (224,224)\n",
    "batch_size = 32"
   ]
  },
  {
   "cell_type": "markdown",
   "id": "d99660aa-1edf-42e5-8186-fe8ac8174c6e",
   "metadata": {},
   "source": [
    "# Data Augmentation "
   ]
  },
  {
   "cell_type": "code",
   "execution_count": 4,
   "id": "f224ff14-6992-43d2-95c4-47bdec729ccf",
   "metadata": {},
   "outputs": [],
   "source": [
    "datagen = ImageDataGenerator(\n",
    "    rescale = 1./255,\n",
    "    validation_split = 0.2,\n",
    "    rotation_range = 15 # Only rotate image, no scaling or shifting\n",
    ")"
   ]
  },
  {
   "cell_type": "markdown",
   "id": "2be82195-72fc-4292-bea7-19fd4ea94542",
   "metadata": {},
   "source": [
    "# Loading Data"
   ]
  },
  {
   "cell_type": "code",
   "execution_count": 5,
   "id": "e8f5f673-3b0c-40f7-85df-e98b7e752a58",
   "metadata": {},
   "outputs": [
    {
     "name": "stdout",
     "output_type": "stream",
     "text": [
      "Found 74004 images belonging to 5 classes.\n"
     ]
    }
   ],
   "source": [
    "train_generator = datagen.flow_from_directory(\n",
    "    data_dir,\n",
    "    target_size = img_size,\n",
    "    batch_size = batch_size,\n",
    "    class_mode = 'categorical',\n",
    "    subset = 'training'\n",
    ")"
   ]
  },
  {
   "cell_type": "code",
   "execution_count": 6,
   "id": "6ecf34fe-6530-4f74-8d7a-d3bf4590d13b",
   "metadata": {},
   "outputs": [
    {
     "name": "stdout",
     "output_type": "stream",
     "text": [
      "Found 18497 images belonging to 5 classes.\n"
     ]
    }
   ],
   "source": [
    "val_generator = datagen.flow_from_directory(\n",
    "    data_dir,\n",
    "    target_size = img_size,\n",
    "    batch_size = batch_size,\n",
    "    class_mode = 'categorical',\n",
    "    subset = 'validation'\n",
    ")"
   ]
  },
  {
   "cell_type": "markdown",
   "id": "036dd5b7-2d09-426b-8de5-604e6eba32b3",
   "metadata": {},
   "source": [
    "# Building the Custom CNN Model"
   ]
  },
  {
   "cell_type": "code",
   "execution_count": 7,
   "id": "7eee09f9-117e-4c84-83b2-64c6f0b2d76a",
   "metadata": {},
   "outputs": [],
   "source": [
    "model = Sequential([\n",
    "    Conv2D(32,(3,3), activation='relu', input_shape=(224,224,3)),\n",
    "    BatchNormalization(),\n",
    "    Conv2D(32, (3,3), activation='relu', padding='same'),\n",
    "    BatchNormalization(),\n",
    "    MaxPooling2D(2,2),\n",
    "    Dropout(0.3),\n",
    "\n",
    "    Conv2D(64, (3,3), activation = 'relu', padding='same'),\n",
    "    BatchNormalization(),\n",
    "    Conv2D(64, (3,3), activation='relu', padding='same'),\n",
    "    BatchNormalization(),\n",
    "    MaxPooling2D(2,2),\n",
    "    Dropout(0.3),\n",
    "\n",
    "    Conv2D(128,(3,3),activation='relu', padding='same'),\n",
    "    BatchNormalization(),\n",
    "    Conv2D(128, (3,3), activation='relu', padding='same'),\n",
    "    BatchNormalization(),\n",
    "    MaxPooling2D(2,2),\n",
    "    Dropout(0.4),\n",
    "\n",
    "    Conv2D(256, (3,3), activation='relu', padding='same'),\n",
    "    BatchNormalization(),\n",
    "    Conv2D(256, (3,3), activation='relu', padding='same'),\n",
    "    BatchNormalization(),\n",
    "    MaxPooling2D(2,2),\n",
    "    Dropout(0.4),\n",
    "\n",
    "    GlobalAveragePooling2D(),\n",
    "    Dense(128, activation='relu'),\n",
    "    Dropout(0.5),\n",
    "    Dense(5, activation='softmax', dtype='float32') # 5 classes (0,1,2,3,4)\n",
    "])"
   ]
  },
  {
   "cell_type": "markdown",
   "id": "aad1dab0-d7d6-4fee-b47e-6cedcb1a041d",
   "metadata": {},
   "source": [
    "# Compiling the Model"
   ]
  },
  {
   "cell_type": "code",
   "execution_count": 8,
   "id": "7a1746a2-1a25-4bbd-b908-913c8763e454",
   "metadata": {},
   "outputs": [],
   "source": [
    "model.compile(\n",
    "    optimizer = Adam(learning_rate=0.0001),\n",
    "    loss = 'categorical_crossentropy',\n",
    "    metrics = ['accuracy']\n",
    ")"
   ]
  },
  {
   "cell_type": "markdown",
   "id": "de8d77dd-730c-4c97-af39-7742d7a19eb0",
   "metadata": {},
   "source": [
    "# Training Callbacks"
   ]
  },
  {
   "cell_type": "code",
   "execution_count": 9,
   "id": "9fd3d657-d5b6-44a2-b1a1-9311f522f6d5",
   "metadata": {},
   "outputs": [],
   "source": [
    "early_stopping = EarlyStopping(monitor='val_loss', patience=5, restore_best_weights=True)\n",
    "reduce_lr = ReduceLROnPlateau(monitor='val_loss',factor=0.5, patience=3)"
   ]
  },
  {
   "cell_type": "markdown",
   "id": "a1d3118c-7d81-4206-acee-904209e47d8a",
   "metadata": {},
   "source": [
    "# Training the Custom CNN Model"
   ]
  },
  {
   "cell_type": "code",
   "execution_count": 12,
   "id": "987b7fad-51b3-48f3-97e6-8949f44c54c5",
   "metadata": {},
   "outputs": [
    {
     "name": "stdout",
     "output_type": "stream",
     "text": [
      "Training CNN Model....\n",
      "Epoch 1/10\n",
      "2313/2313 [==============================] - 1125s 486ms/step - loss: 0.7325 - accuracy: 0.7626 - val_loss: 0.8280 - val_accuracy: 0.7487 - lr: 1.0000e-04\n",
      "Epoch 2/10\n",
      "2313/2313 [==============================] - 1092s 472ms/step - loss: 0.7036 - accuracy: 0.7661 - val_loss: 0.8154 - val_accuracy: 0.7512 - lr: 1.0000e-04\n",
      "Epoch 3/10\n",
      "2313/2313 [==============================] - 1097s 474ms/step - loss: 0.6800 - accuracy: 0.7733 - val_loss: 0.7359 - val_accuracy: 0.7579 - lr: 1.0000e-04\n",
      "Epoch 4/10\n",
      "2313/2313 [==============================] - 1121s 484ms/step - loss: 0.6637 - accuracy: 0.7783 - val_loss: 0.6964 - val_accuracy: 0.7706 - lr: 1.0000e-04\n",
      "Epoch 5/10\n",
      "2313/2313 [==============================] - 1116s 482ms/step - loss: 0.6459 - accuracy: 0.7844 - val_loss: 0.6538 - val_accuracy: 0.7818 - lr: 1.0000e-04\n",
      "Epoch 6/10\n",
      "2313/2313 [==============================] - 1096s 474ms/step - loss: 0.6309 - accuracy: 0.7908 - val_loss: 0.8072 - val_accuracy: 0.7617 - lr: 1.0000e-04\n",
      "Epoch 7/10\n",
      "2313/2313 [==============================] - 1172s 507ms/step - loss: 0.6196 - accuracy: 0.7956 - val_loss: 0.6572 - val_accuracy: 0.7833 - lr: 1.0000e-04\n",
      "Epoch 8/10\n",
      "2313/2313 [==============================] - 1111s 480ms/step - loss: 0.6089 - accuracy: 0.7987 - val_loss: 0.6223 - val_accuracy: 0.7885 - lr: 1.0000e-04\n",
      "Epoch 9/10\n",
      "2313/2313 [==============================] - 1109s 479ms/step - loss: 0.6005 - accuracy: 0.8024 - val_loss: 0.6585 - val_accuracy: 0.7890 - lr: 1.0000e-04\n",
      "Epoch 10/10\n",
      "2313/2313 [==============================] - 1109s 479ms/step - loss: 0.5931 - accuracy: 0.8046 - val_loss: 0.6132 - val_accuracy: 0.7905 - lr: 1.0000e-04\n",
      "Model training Completed\n",
      "Execution Time Taken: 11184.89 seconds\n"
     ]
    }
   ],
   "source": [
    "print('Training CNN Model....')\n",
    "start_time = time.time()\n",
    "history = model.fit(\n",
    "    train_generator,\n",
    "    validation_data = val_generator,\n",
    "    epochs = 10,\n",
    "    callbacks =[early_stopping, reduce_lr]\n",
    ")\n",
    "end_time = time.time()\n",
    "print('Model training Completed')\n",
    "print(f'Execution Time Taken: {end_time - start_time:.2f} seconds')"
   ]
  },
  {
   "cell_type": "markdown",
   "id": "5b99ee09-c368-486b-ac65-974176712a0c",
   "metadata": {},
   "source": [
    "# Saving the Model"
   ]
  },
  {
   "cell_type": "code",
   "execution_count": 13,
   "id": "5faf6a08-1251-497f-96dd-094f2a96bf7f",
   "metadata": {},
   "outputs": [],
   "source": [
    "model.save('DR_CNN_model.h5')"
   ]
  },
  {
   "cell_type": "markdown",
   "id": "35ed605a-c5b8-4fa5-86c1-43cdf501c411",
   "metadata": {},
   "source": [
    "# Evaluating the Model"
   ]
  },
  {
   "cell_type": "code",
   "execution_count": 21,
   "id": "d4719ddd-e50a-4543-bc0b-64e10d865255",
   "metadata": {},
   "outputs": [],
   "source": [
    "def evaluate_model():\n",
    "    y_true = []\n",
    "    y_pred = []\n",
    "    \n",
    "    steps = len(val_generator)  # Get total number of batches in validation set\n",
    "    for _ in range(steps):\n",
    "        images, labels = next(val_generator)  # Fetch next batch\n",
    "        preds = model.predict(images, verbose=0)\n",
    "        y_true.extend(np.argmax(labels, axis=1))\n",
    "        y_pred.extend(np.argmax(preds, axis=1))\n",
    "    \n",
    "    print('Confusion Matrix for CNN Model:')\n",
    "    cm = confusion_matrix(y_true, y_pred)\n",
    "    plt.figure(figsize=(6,6))\n",
    "    sns.heatmap(cm, annot=True, fmt='d', cmap='Blues', xticklabels=range(5), yticklabels=range(5))\n",
    "    plt.xlabel('Predicted')\n",
    "    plt.ylabel('Actual')\n",
    "    plt.title('Confusion Matrix')\n",
    "    plt.show()\n",
    "\n",
    "    print('Classification Report for CNN Model:')\n",
    "    print(classification_report(y_true, y_pred))\n"
   ]
  },
  {
   "cell_type": "code",
   "execution_count": 22,
   "id": "84b864d9-be22-4d64-93fe-61fec35eea1f",
   "metadata": {},
   "outputs": [
    {
     "name": "stdout",
     "output_type": "stream",
     "text": [
      "Confusion Matrix for CNN Model:\n"
     ]
    },
    {
     "data": {
      "image/png": "[encoded data removed]",
      "text/plain": [
       "<Figure size 600x600 with 2 Axes>"
      ]
     },
     "metadata": {},
     "output_type": "display_data"
    },
    {
     "name": "stdout",
     "output_type": "stream",
     "text": [
      "Classification Report for CNN Model:\n",
      "              precision    recall  f1-score   support\n",
      "\n",
      "           0       0.84      0.95      0.89     13839\n",
      "           1       0.61      0.04      0.07       917\n",
      "           2       0.53      0.44      0.48      3017\n",
      "           3       0.48      0.07      0.12       235\n",
      "           4       0.55      0.35      0.43       489\n",
      "\n",
      "    accuracy                           0.79     18497\n",
      "   macro avg       0.60      0.37      0.40     18497\n",
      "weighted avg       0.77      0.79      0.76     18497\n",
      "\n"
     ]
    }
   ],
   "source": [
    "# Evaluating the CNN model\n",
    "evaluate_model()"
   ]
  },
  {
   "cell_type": "markdown",
   "id": "05a69c3d-25c9-4206-a424-9076e251c8d9",
   "metadata": {},
   "source": [
    "# Grad-CAM Visualization"
   ]
  },
  {
   "cell_type": "code",
   "execution_count": 76,
   "id": "a1499bcf-f649-4b7d-86e5-34290e33f139",
   "metadata": {},
   "outputs": [],
   "source": [
    "def grad_cam(image_path, model, layer_name='conv2d_4'):\n",
    "    img = cv2.imread(image_path)\n",
    "    if img is None:\n",
    "        raise FileNotFoundError(f\"Error: Image not found at {image_path}\")\n",
    "\n",
    "    img = cv2.resize(img, (224, 224))  # Fix IMAGE_SIZE reference\n",
    "    img = np.expand_dims(img, axis=0) / 255.0\n",
    "    \n",
    "    grad_model = tf.keras.models.Model(\n",
    "        [model.inputs], [model.get_layer(layer_name).output, model.output]\n",
    "    )\n",
    "    with tf.GradientTape() as tape:\n",
    "        conv_outputs, predictions = grad_model(img)\n",
    "        loss = predictions[:, np.argmax(predictions)]\n",
    "    grads = tape.gradient(loss, conv_outputs)\n",
    "    pooled_grads = tf.reduce_mean(grads, axis=(0, 1, 2))\n",
    "    conv_outputs = conv_outputs[0] * pooled_grads\n",
    "    heatmap = tf.reduce_mean(conv_outputs, axis=-1)\n",
    "    heatmap = np.maximum(heatmap, 0) / np.max(heatmap)\n",
    "\n",
    "    plt.imshow(img[0])  # Display original image\n",
    "    plt.imshow(heatmap, cmap='jet', alpha=0.5)\n",
    "    plt.axis('off')\n",
    "    plt.show()\n"
   ]
  },
  {
   "cell_type": "code",
   "execution_count": 78,
   "id": "dd51fbdb-1a5b-4ec0-a02c-6815735a4794",
   "metadata": {},
   "outputs": [
    {
     "data": {
      "image/png": "[encoded data removed]",
      "text/plain": [
       "<Figure size 640x480 with 1 Axes>"
      ]
     },
     "metadata": {},
     "output_type": "display_data"
    }
   ],
   "source": [
    "# Example Usage\n",
    "grad_cam(r\"C:\\Users\\bhagi\\Desktop\\AI_ML_Projects\\Early_Detection_of_Diabetic_Retinopathy\\preprocessed\\0\\00cc2b75cddd.jpg\",model)"
   ]
  },
  {
   "cell_type": "code",
   "execution_count": null,
   "id": "4540d6be-c9fb-4000-9f75-4d5eb9a115bc",
   "metadata": {},
   "outputs": [],
   "source": []
  }
 ],
 "metadata": {
  "kernelspec": {
   "display_name": "Python 3.10 (DR Project)",
   "language": "python",
   "name": "dr_project"
  },
  "language_info": {
   "codemirror_mode": {
    "name": "ipython",
    "version": 3
   },
   "file_extension": ".py",
   "mimetype": "text/x-python",
   "name": "python",
   "nbconvert_exporter": "python",
   "pygments_lexer": "ipython3",
   "version": "3.10.16"
  }
 },
 "nbformat": 4,
 "nbformat_minor": 5
}
